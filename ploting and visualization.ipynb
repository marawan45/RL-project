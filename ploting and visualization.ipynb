{
 "cells": [
  {
   "cell_type": "code",
   "execution_count": null,
   "id": "f8c307f4",
   "metadata": {},
   "outputs": [],
   "source": [
    "\n",
    "    def plot_results(self, rewards_per_episode, epsilon_history, episodes):\n",
    "        plt.figure(figsize=(12, 5))\n",
    "\n",
    "        window_size = 50\n",
    "        rewards_smoothed = pd.Series(rewards_per_episode).rolling(window=window_size).mean()\n",
    "\n",
    "        plt.subplot(1, 2, 1)\n",
    "        plt.plot(rewards_smoothed, color='b', label='Avg Reward (Moving Avg)')\n",
    "        plt.xlabel('Episodes')\n",
    "        plt.ylabel('Rewards')\n",
    "        plt.title('Rewards over Episodes')\n",
    "        plt.legend()\n",
    "        plt.grid(True)\n",
    "\n",
    "        plt.subplot(1, 2, 2)\n",
    "        plt.plot(epsilon_history, color='r', linestyle='--', marker='o', markersize=3, label='Epsilon')\n",
    "        plt.xlabel('Episodes')\n",
    "        plt.ylabel('Epsilon Value')\n",
    "        plt.title('Epsilon Decay over Episodes')\n",
    "        plt.legend()\n",
    "        plt.grid(True)\n",
    "\n",
    "        plt.tight_layout()\n",
    "        plt.savefig('frozen1_lake_dql_improved.png')\n",
    "        plt.show()\n",
    "\n",
    "    def show_q_table(self, is_slippery=False):\n",
    "        env = gym.make('FrozenLake-v1', map_name=\"4x4\", is_slippery=is_slippery)\n",
    "        num_states = env.observation_space.n\n",
    "        num_actions = env.action_space.n\n",
    "\n",
    "        policy_dqn = DQN(in_states=num_states, h1_nodes=num_states, out_actions=num_actions)\n",
    "        policy_dqn.load_state_dict(torch.load(\"frozen1_lake_dql.pt\"))\n",
    "        policy_dqn.eval()\n",
    "\n",
    "        print(\"\\nQ-table (approximated by the neural network):\")\n",
    "        for state in range(num_states):\n",
    "            with torch.no_grad():\n",
    "                q_values = policy_dqn(self.state_to_dqn_input(state, num_states)).numpy()\n",
    "            print(f\"State {state}: {q_values}\")\n",
    "\n",
    "        env.close()\n"
   ]
  }
 ],
 "metadata": {
  "kernelspec": {
   "display_name": "Python 3 (ipykernel)",
   "language": "python",
   "name": "python3"
  },
  "language_info": {
   "codemirror_mode": {
    "name": "ipython",
    "version": 3
   },
   "file_extension": ".py",
   "mimetype": "text/x-python",
   "name": "python",
   "nbconvert_exporter": "python",
   "pygments_lexer": "ipython3",
   "version": "3.11.3"
  }
 },
 "nbformat": 4,
 "nbformat_minor": 5
}
