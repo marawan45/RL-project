{
 "cells": [
  {
   "cell_type": "code",
   "execution_count": null,
   "id": "cdb257e5",
   "metadata": {},
   "outputs": [],
   "source": [
    "  def train(self, episodes, render=False, is_slippery=False):\n",
    "        env = gym.make('FrozenLake-v1', map_name=\"4x4\", is_slippery=is_slippery, render_mode='human' if render else None)\n",
    "        num_states = env.observation_space.n\n",
    "        num_actions = env.action_space.n\n",
    "\n",
    "        epsilon = 1\n",
    "        memory = ReplayMemory(self.replay_memory_size)\n",
    "\n",
    "        policy_dqn = DQN(in_states=num_states, h1_nodes=num_states, out_actions=num_actions)\n",
    "        target_dqn = DQN(in_states=num_states, h1_nodes=num_states, out_actions=num_actions)\n",
    "        target_dqn.load_state_dict(policy_dqn.state_dict())\n",
    "\n",
    "        self.optimizer = torch.optim.Adam(policy_dqn.parameters(), lr=self.learning_rate_a)\n",
    "\n",
    "        rewards_per_episode = np.zeros(episodes)\n",
    "        epsilon_history = []\n",
    "        step_count = 0\n",
    "\n",
    "        for i in range(episodes):\n",
    "            state = env.reset()[0]\n",
    "            terminated = False\n",
    "            truncated = False    \n",
    "            episode_reward = 0  \n",
    "\n",
    "            while not terminated and not truncated:\n",
    "                if random.random() < epsilon:\n",
    "                    action = env.action_space.sample()\n",
    "                else:\n",
    "                    with torch.no_grad():\n",
    "                        action = policy_dqn(self.state_to_dqn_input(state, num_states)).argmax().item()\n",
    "\n",
    "                new_state, reward, terminated, truncated, _ = env.step(action)\n",
    "                memory.append((state, action, new_state, reward, terminated))\n",
    "                state = new_state\n",
    "                step_count += 1\n",
    "                episode_reward += reward  \n",
    "\n",
    "            rewards_per_episode[i] = episode_reward\n",
    "            print(f\"Episode {i+1}: Reward = {episode_reward}\")\n",
    "\n",
    "            if len(memory) > self.mini_batch_size and np.sum(rewards_per_episode) > 0:\n",
    "                mini_batch = memory.sample(self.mini_batch_size)\n",
    "                self.optimize(mini_batch, policy_dqn, target_dqn)        \n",
    "\n",
    "                epsilon = max(epsilon - 1 / episodes, 0)\n",
    "                epsilon_history.append(epsilon)\n",
    "\n",
    "                if step_count > self.network_sync_rate:\n",
    "                    target_dqn.load_state_dict(policy_dqn.state_dict())\n",
    "                    step_count = 0\n",
    "\n",
    "        env.close()\n",
    "        torch.save(policy_dqn.state_dict(), \"frozen1_lake_dql.pt\")\n",
    "\n",
    "        self.plot_results(rewards_per_episode, epsilon_history, episodes)"
   ]
  }
 ],
 "metadata": {
  "kernelspec": {
   "display_name": "Python 3 (ipykernel)",
   "language": "python",
   "name": "python3"
  },
  "language_info": {
   "codemirror_mode": {
    "name": "ipython",
    "version": 3
   },
   "file_extension": ".py",
   "mimetype": "text/x-python",
   "name": "python",
   "nbconvert_exporter": "python",
   "pygments_lexer": "ipython3",
   "version": "3.11.3"
  }
 },
 "nbformat": 4,
 "nbformat_minor": 5
}
