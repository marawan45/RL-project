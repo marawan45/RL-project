{
 "cells": [
  {
   "cell_type": "code",
   "execution_count": null,
   "id": "660a0b78",
   "metadata": {},
   "outputs": [],
   "source": [
    " def state_to_dqn_input(self, state, num_states):\n",
    "        input_tensor = torch.zeros(num_states)\n",
    "        input_tensor[state] = 1\n",
    "        return input_tensor\n",
    "\n",
    "    def test(self, episodes, is_slippery=False):\n",
    "        env = gym.make('FrozenLake-v1', map_name=\"4x4\", is_slippery=is_slippery, render_mode='human')\n",
    "        num_states = env.observation_space.n\n",
    "        num_actions = env.action_space.n\n",
    "\n",
    "        policy_dqn = DQN(in_states=num_states, h1_nodes=num_states, out_actions=num_actions) \n",
    "        policy_dqn.load_state_dict(torch.load(\"frozen1_lake_dql.pt\"))\n",
    "        policy_dqn.eval()\n",
    "\n",
    "        for i in range(episodes):\n",
    "            state = env.reset()[0]\n",
    "            terminated = False\n",
    "            truncated = False            \n",
    "\n",
    "            while not terminated and not truncated:  \n",
    "                with torch.no_grad():\n",
    "                    action = policy_dqn(self.state_to_dqn_input(state, num_states)).argmax().item()\n",
    "                state, reward, terminated, truncated, _ = env.step(action)\n",
    "\n",
    "        env.close()"
   ]
  }
 ],
 "metadata": {
  "kernelspec": {
   "display_name": "Python 3 (ipykernel)",
   "language": "python",
   "name": "python3"
  },
  "language_info": {
   "codemirror_mode": {
    "name": "ipython",
    "version": 3
   },
   "file_extension": ".py",
   "mimetype": "text/x-python",
   "name": "python",
   "nbconvert_exporter": "python",
   "pygments_lexer": "ipython3",
   "version": "3.11.3"
  }
 },
 "nbformat": 4,
 "nbformat_minor": 5
}
